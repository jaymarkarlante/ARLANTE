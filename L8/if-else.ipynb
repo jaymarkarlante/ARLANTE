{
 "cells": [
  {
   "cell_type": "markdown",
   "id": "9cf9aa6d",
   "metadata": {},
   "source": [
    "# if-else statement <hr style=\"border:2.5px solid #098885\"></hr>"
   ]
  },
  {
   "cell_type": "markdown",
   "id": "a9fd449a",
   "metadata": {},
   "source": [
    "Data Analyst: Jaymark S. Arlante <br>\n",
    "Department: Electrical Engineering"
   ]
  },
  {
   "cell_type": "markdown",
   "id": "3efd9498",
   "metadata": {},
   "source": [
    "# if-statement"
   ]
  },
  {
   "cell_type": "code",
   "execution_count": 6,
   "id": "624ed83c",
   "metadata": {},
   "outputs": [
    {
     "name": "stdout",
     "output_type": "stream",
     "text": [
      "pasar ko!\n"
     ]
    }
   ],
   "source": [
    "# passing score is 5.0\n",
    "grade = 5.1\n",
    "if grade >= 5.0:\n",
    "    print(\"pasar ko!\")"
   ]
  },
  {
   "cell_type": "code",
   "execution_count": 8,
   "id": "1356e4e7",
   "metadata": {},
   "outputs": [
    {
     "name": "stdout",
     "output_type": "stream",
     "text": [
      "FAILED!\n"
     ]
    }
   ],
   "source": [
    "# two if statement are evaluated\n",
    "grade = 4.5\n",
    "\n",
    "# evaluate grade\n",
    "if grade >= 5.0:\n",
    "    print(\"PASSED!\")\n",
    "if grade < 5.0:\n",
    "    print(\"FAILED!\")"
   ]
  },
  {
   "cell_type": "markdown",
   "id": "c72132bd",
   "metadata": {},
   "source": [
    "# if-else statement"
   ]
  },
  {
   "cell_type": "code",
   "execution_count": 13,
   "id": "322e8bfa",
   "metadata": {},
   "outputs": [
    {
     "name": "stdout",
     "output_type": "stream",
     "text": [
      "FAILED!\n"
     ]
    }
   ],
   "source": [
    "# if grade >= 5.0 is True, else will not be evaluated\n",
    "grade = 4.0\n",
    "\n",
    "# evaluate grade\n",
    "if grade >= 5.0:\n",
    "    print(\"PASSED!\")\n",
    "else:\n",
    "    print(\"FAILED!\")"
   ]
  },
  {
   "cell_type": "markdown",
   "id": "c1b2a439",
   "metadata": {},
   "source": [
    "# if-elif-else statement"
   ]
  },
  {
   "cell_type": "code",
   "execution_count": 16,
   "id": "f8798022",
   "metadata": {},
   "outputs": [
    {
     "name": "stdout",
     "output_type": "stream",
     "text": [
      "FAILED!\n"
     ]
    }
   ],
   "source": [
    "# if grade >= 5.0 is True, other conditions will not be evaluated\n",
    "grade = 2.0\n",
    "\n",
    "# evaluate grade\n",
    "if grade >= 5.0:\n",
    "    print(\"PASSED!\")\n",
    "elif grade < 5.0: # < 5.0 evaluated first\n",
    "    print(\"FAILED!\")\n",
    "elif grade < 3.0:\n",
    "     print(\"DISMISSED!\")\n",
    "else:\n",
    "    print(\"INVALID!\")"
   ]
  },
  {
   "cell_type": "code",
   "execution_count": 17,
   "id": "31d58cbe",
   "metadata": {},
   "outputs": [
    {
     "name": "stdout",
     "output_type": "stream",
     "text": [
      "DISMISSED!\n"
     ]
    }
   ],
   "source": [
    "# if grade >= 5.0 is True, other conditions will not be evaluated\n",
    "grade = 2.9\n",
    "\n",
    "# evaluate grade\n",
    "if grade >= 5.0:\n",
    "    print(\"PASSED!\")\n",
    "elif grade < 3.0: # < 3.0 evaluated first\n",
    "    print(\"DISMISSED!\")\n",
    "elif grade < 3.0:\n",
    "     print(\"FAILED!\")\n",
    "else:\n",
    "    print(\"INVALID!\")"
   ]
  }
 ],
 "metadata": {
  "kernelspec": {
   "display_name": "Python 3",
   "language": "python",
   "name": "python3"
  },
  "language_info": {
   "codemirror_mode": {
    "name": "ipython",
    "version": 3
   },
   "file_extension": ".py",
   "mimetype": "text/x-python",
   "name": "python",
   "nbconvert_exporter": "python",
   "pygments_lexer": "ipython3",
   "version": "3.9.0"
  }
 },
 "nbformat": 4,
 "nbformat_minor": 5
}
